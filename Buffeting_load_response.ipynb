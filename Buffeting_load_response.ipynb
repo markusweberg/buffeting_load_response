{
 "cells": [
  {
   "cell_type": "code",
   "execution_count": 2,
   "metadata": {},
   "outputs": [],
   "source": [
    "import numpy as np\n",
    "import matplotlib.pyplot as plt"
   ]
  },
  {
   "cell_type": "code",
   "execution_count": 3,
   "metadata": {},
   "outputs": [],
   "source": [
    "# Importing the mode shapes and natural frequencies from Abaqus and calculating the modal system matrices\n",
    "odb_file = \"./Data/Updated model/grenland_bridge51\"\n",
    "\n",
    "# Bridge length vector\n",
    "x = np.arange(0, 609, 8)\n",
    "\n",
    "# 3 x n_modes x len(x)\n",
    "phi = np.load(odb_file + \"_modes.npy\")\n",
    "phi = phi[:,:,::8]\n",
    "\n",
    "# n_modes x 1\n",
    "f_n = np.load(odb_file + \"_frequencies.npy\")\n",
    "\n",
    "# Damping \n",
    "xi = 0.5 / 100\n",
    "\n",
    "# Number of modes\n",
    "n_modes = phi.shape[1]\n",
    "\n",
    "# Generalized mass matrix\n",
    "M_gen = np.load(odb_file + \"_mass.npy\") \n",
    "\n",
    "# Establishing the system matrices\n",
    "M_modal = np.diag(M_gen)\n",
    "K_modal = np.zeros((n_modes, n_modes))\n",
    "C_modal = np.zeros((n_modes, n_modes))\n",
    "\n",
    "# Calculating the system matrices\n",
    "for i in range(n_modes):\n",
    "\n",
    "    K_modal[i, i] = f_n[i]**2 * M_modal[i, i]\n",
    "\n",
    "    C_modal[i, i] = 2 * M_modal[i, i] * f_n[i] * xi"
   ]
  },
  {
   "cell_type": "code",
   "execution_count": 4,
   "metadata": {},
   "outputs": [],
   "source": [
    "# Calculating the wind load properties\n",
    "# NS-EN 1991-1-4\n",
    "\n",
    "# Mean wind velocity\n",
    "V_b0 = 23\n",
    "C_alt = max(1 + (30 - 23)* (55.233 - 900) / (23*(1500-900)) , 1)\n",
    "C_dir = 1 \n",
    "C_seas = 1\n",
    "p = 0.5\n",
    "C_prob = ((1 - 0.2 * np.log(-np.log(1-p))) / (1 - 0.2 * np.log(-np.log(0.98)))) **0.5\n",
    "C_0 = 1 \n",
    "z0 = 0.001\n",
    "z1 = 10\n",
    "zmin = 2\n",
    "L1 = 100\n",
    "z = 55.233\n",
    "kr = 0.17\n",
    "C_r = kr * np.log(z / z0)\n",
    "\n",
    "V = V_b0 * C_dir* C_seas * C_alt * C_prob * C_0 * C_r\n",
    "\n",
    "# Wind spectra properties\n",
    "rho = 1.25\n",
    "Au = 6.8\n",
    "Av = 9.4\n",
    "Aw = 9.4\n",
    "xLu = L1 * (z / z1)**0.3\n",
    "xLv = 1 / 4 * xLu\n",
    "xLw = 1 / 12 * xLu\n",
    "k_i = 1\n",
    "Iu = kr * V_b0 * k_i / V\n",
    "Iv = 3 / 4 * Iu\n",
    "Iw = 1 / 2 * Iu\n",
    "\n",
    "# Bridge deck properties\n",
    "D = 2.6\n",
    "B = 12\n",
    "CD_prime = 0\n",
    "CD_bar = 1.0\n",
    "CL_prime = 2.22\n",
    "CL_bar = -0.58\n",
    "CM_prime = 0.786\n",
    "CM_bar = -0.017\n",
    "C_u = 9\n",
    "C_w = 6"
   ]
  },
  {
   "cell_type": "code",
   "execution_count": 5,
   "metadata": {},
   "outputs": [],
   "source": [
    "# Calculating the cross-spectral density of the wind load \n",
    "\n",
    "# Buffeting wind load matrices\n",
    "B_q = rho * V * B / 2 * np.array([\n",
    "    [2 * (D / B)* CD_bar, ((D / B) * CD_prime - CL_bar)],\n",
    "    [2 * CL_bar, (CL_prime + (D / B) * CD_bar)],\n",
    "    [2 * B * CM_bar, B * CM_prime]\n",
    "])\n",
    "\n",
    "C_ae = - rho * V * B / 2 * np.array([\n",
    "    [2 * (D / B)* CD_bar, ((D / B) * CD_prime - CL_bar), 0],\n",
    "    [2 * CL_bar, (CL_prime + (D / B) * CD_bar), 0],\n",
    "    [2 * B * CM_bar, B * CM_prime, 0]\n",
    "])\n",
    "\n",
    "K_ae = rho * V**2 * B / 2 * np.array([\n",
    "    [0, 0, (D / B) * CD_prime],\n",
    "    [0, 0, CL_prime],\n",
    "    [0, 0, B * CM_prime]\n",
    "])\n",
    "\n",
    "# Frequency vector\n",
    "w = np.linspace(0.001, 3, 100)\n",
    "\n",
    "# Wind turbulence \n",
    "Su = (Iu*V)**2*Au*xLu/V / ((1+1.5*Au*w*xLu/V)**(5/3))\n",
    "Sw = (Iw*V)**2*Aw*xLw/V / ((1+1.5*Aw*w*xLw/V)**(5/3))\n",
    "\n",
    "# Extending B_q and phi for matrix multiplication\n",
    "B_q_extended = np.zeros((len(x) * 3, len(x) * 2))\n",
    "\n",
    "for i in range(len(x)):\n",
    "    B_q_extended[i*3:(i*3)+3, i*2:(i*2)+2] = B_q\n",
    "\n",
    "phi_extended = np.zeros((3 * len(x), len(x), n_modes))\n",
    "\n",
    "for i in range(n_modes):\n",
    "    for j in range(len(x)):\n",
    "\n",
    "        phi_extended[j*3:(j*3)+3, j, i] = phi[:, i, j]"
   ]
  },
  {
   "cell_type": "code",
   "execution_count": 135,
   "metadata": {},
   "outputs": [],
   "source": [
    "# Establishing the spectral density matrices\n",
    "S_Q = np.zeros((n_modes, n_modes, len(w)), dtype=float)\n",
    "S_v = np.zeros((len(x) * 2, len(x) * 2))\n",
    "\n",
    "# Establishing dxdx meshgrid and the integrand matrix\n",
    "dxdx = np.abs(np.array([x]) - np.array([x]).T)\n",
    "integrand = np.zeros((len(x), len(x)))\n",
    "\n",
    "for h in range(len(w)):\n",
    "    \n",
    "    # One-point spectra for the wind load\n",
    "    S_v[0::2, 0::2] = Su[h] * np.exp(-C_u * w[h] * dxdx / V)\n",
    "    S_v[1::2, 1::2] = Sw[h] * np.exp(-C_w * w[h] * dxdx / V)\n",
    "    \n",
    "    S_qq = (rho * V * B / 2)**2 * B_q_extended @ S_v @ B_q_extended.T # 3 * len(x) x 3 * len(x)\n",
    "\n",
    "    for i in range(n_modes):\n",
    "        for j in range(n_modes):\n",
    "            \n",
    "            integrand = phi_extended[:,:,i].T @ S_qq @ phi_extended[:,:,j]\n",
    "            \n",
    "            S_Q[i, j, h] = np.trapz(np.trapz(integrand, x), x)"
   ]
  },
  {
   "cell_type": "code",
   "execution_count": 6,
   "metadata": {},
   "outputs": [],
   "source": [
    "# Saving the cross-spectral density of the wind load\n",
    "\n",
    "# np.save(\"./Results/Initial model/S_Q_initial.npy\", S_Q)\n",
    "# np.save(\"./Results/Updated model/S_Q_updated.npy\", S_Q)\n",
    "\n",
    "# Import the cross-spectral density to skip calculation\n",
    "\n",
    "S_Q = np.load(\"./Results/Initial model/S_Q_initial.npy\")\n",
    "# S_Q = np.load(\"./Results/Updated model/S_Q_updated.npy\")"
   ]
  },
  {
   "cell_type": "code",
   "execution_count": 7,
   "metadata": {},
   "outputs": [],
   "source": [
    "# Interpolating the cross-spectral density matrix to get better resolution in the response spectrum\n",
    "\n",
    "w_interp = np.linspace(0.001,3,1000)\n",
    "S_Q_interp = np.zeros((n_modes, n_modes, len(w_interp)))\n",
    "\n",
    "for i in range(n_modes):\n",
    "    for j in range(n_modes):\n",
    "\n",
    "        S_Q_interp[i, j, :] = np.interp(w_interp, w, S_Q[i, j, :])"
   ]
  },
  {
   "cell_type": "code",
   "execution_count": 278,
   "metadata": {},
   "outputs": [],
   "source": [
    "# First draft for calculating the cross-spectral density of the wind load\n",
    "# Does the same as the code above, but slower\n",
    "\n",
    "# integrand = np.zeros((len(x), len(x)))\n",
    "\n",
    "# S_v = np.zeros((2, 2))\n",
    "# S_Q = np.zeros((n_modes, n_modes, len(w)), dtype=float)\n",
    "\n",
    "# for h in range(len(w)):\n",
    "#     for i in range(n_modes):\n",
    "#         for j in range(n_modes):\n",
    "#             for k in range(len(x)):\n",
    "#                 for l in range(len(x)):\n",
    "\n",
    "#                     # One-point spectra for the wind load\n",
    "#                     S_v[0, 0] = Su[h] * np.exp(-C_u * w[h] * np.abs(x[l] - x[k]) / V)\n",
    "#                     S_v[1, 1] = Sw[h] * np.exp(-C_w * w[h] * np.abs(x[l] - x[k]) / V)\n",
    "                    \n",
    "#                     S_qq = (rho * V * B / 2)**2 * B_q @ S_v @ B_q.T # 3 x 3\n",
    "\n",
    "#                     integrand[k, l] = phi[:, i, k].T @ S_qq @ phi[:, j, l] # 1 x 1\n",
    "                \n",
    "\n",
    "#             S_Q[i, j, h] = np.trapz(np.trapz(integrand, x), x) # 1 x 1\n",
    "#             print(S_Q[i, j])\n"
   ]
  },
  {
   "cell_type": "code",
   "execution_count": 8,
   "metadata": {},
   "outputs": [],
   "source": [
    "# Calculating the frequency response function\n",
    "\n",
    "C_ae_modal = np.zeros((n_modes, n_modes))\n",
    "K_ae_modal = np.zeros((n_modes, n_modes))\n",
    "H_modal = np.zeros((n_modes, n_modes, len(w_interp)), dtype=complex)\n",
    "\n",
    "\n",
    "for i in range(n_modes):\n",
    "    for j in range(n_modes):\n",
    "        for k in range(len(x)):\n",
    "            C_integrand = np.zeros(len(x))\n",
    "            C_integrand[k] = phi[:,i,k].T @ C_ae @ phi[:,j,k]\n",
    "\n",
    "            K_integrand = np.zeros(len(x))\n",
    "            K_integrand[k] = phi[:,i,k].T @ K_ae @ phi[:,j,k]\n",
    "\n",
    "        C_ae_modal[i, j] = np.trapz(C_integrand, x)\n",
    "        K_ae_modal[i, j] = np.trapz(K_integrand, x)\n",
    "\n",
    "\n",
    "\n",
    "for i in range(len(w_interp)):\n",
    "    H_modal[:,:,i] = np.linalg.inv((-w_interp[i]**2 * M_modal + 1j * w_interp[i] * (C_modal - C_ae_modal) + K_modal - K_ae_modal))"
   ]
  },
  {
   "cell_type": "code",
   "execution_count": 53,
   "metadata": {},
   "outputs": [],
   "source": [
    "# Calculating the cross-spectral density of the response at x_r\n",
    "\n",
    "phi_r = np.zeros((3 * len(x), n_modes))\n",
    "\n",
    "for i in range(n_modes):\n",
    "    for j in range(len(x)):\n",
    "        phi_r[j*3:(j*3)+3, i] = phi[:, i, j]\n",
    "\n",
    "# Cross-spectral density of the response\n",
    "S_rr = np.zeros((3 * len(x), 3 * len(x), len(w_interp)), dtype=complex)\n",
    "\n",
    "for i in range(len(w_interp)):\n",
    "    S_rr[:,:,i] = phi_r @ (np.conj(H_modal[:,:,i]) @ S_Q_interp[:,:,i] @ H_modal[:,:,i].T) @ phi_r.T"
   ]
  },
  {
   "cell_type": "code",
   "execution_count": 72,
   "metadata": {},
   "outputs": [],
   "source": [
    "# Calculating the maximum deformation and bending moment from the standard deviation\n",
    "\n",
    "std_dev_y = np.zeros((len(x)), dtype=complex)\n",
    "std_dev_z = np.zeros((len(x)), dtype=complex)\n",
    "std_dev_t = np.zeros((len(x)), dtype=complex)\n",
    "\n",
    "for i in range(len(x)):\n",
    "    std_dev_y[i] = np.trapz(S_rr[3*i, 3*i, :], w_interp)**0.5\n",
    "    std_dev_z[i] = np.trapz(S_rr[3*i+1, 3*i+1, :], w_interp)**0.5\n",
    "    std_dev_t[i] = np.trapz(S_rr[3*i+2, 3*i+2, :], w_interp)**0.5"
   ]
  },
  {
   "cell_type": "code",
   "execution_count": 70,
   "metadata": {},
   "outputs": [
    {
     "data": {
      "image/png": "[encoded data removed]",
      "text/plain": [
       "<Figure size 800x800 with 1 Axes>"
      ]
     },
     "metadata": {},
     "output_type": "display_data"
    }
   ],
   "source": [
    "plt.figure(figsize=(8,8))\n",
    "plt.plot(x, std_dev_y.real)\n",
    "plt.xlim(0, 609)\n",
    "plt.ylim(0, 240)\n",
    "plt.grid()\n",
    "plt.title(\"Maximum deformation along the y-axis\")\n",
    "plt.xlabel(\"$x$\")\n",
    "plt.ylabel(\"$y(x)$\")\n",
    "plt.show()"
   ]
  },
  {
   "cell_type": "code",
   "execution_count": 52,
   "metadata": {},
   "outputs": [
    {
     "data": {
      "text/plain": [
       "217.97249679334863"
      ]
     },
     "execution_count": 52,
     "metadata": {},
     "output_type": "execute_result"
    }
   ],
   "source": [
    "np.max(std_dev_y.real)"
   ]
  }
 ],
 "metadata": {
  "kernelspec": {
   "display_name": "Python 3",
   "language": "python",
   "name": "python3"
  },
  "language_info": {
   "codemirror_mode": {
    "name": "ipython",
    "version": 3
   },
   "file_extension": ".py",
   "mimetype": "text/x-python",
   "name": "python",
   "nbconvert_exporter": "python",
   "pygments_lexer": "ipython3",
   "version": "3.11.5"
  }
 },
 "nbformat": 4,
 "nbformat_minor": 2
}
